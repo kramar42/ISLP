{
 "cells": [
  {
   "cell_type": "code",
   "execution_count": null,
   "id": "a08c4c85-8c0a-472c-8760-099917884986",
   "metadata": {},
   "outputs": [],
   "source": [
    "import numpy as np\n",
    "rng = np.random.default_rng (1303)\n",
    "print(rng.normal(scale=5, size =2))\n",
    "rng2 = np.random.default_rng (1303)\n",
    "print(rng2.normal(scale=5, size =2))"
   ]
  },
  {
   "cell_type": "code",
   "execution_count": null,
   "id": "c440706b-5a80-4269-9d08-c43b38973de6",
   "metadata": {},
   "outputs": [],
   "source": [
    "from matplotlib.pyplot import subplots\n",
    "fig , ax = subplots(figsize =(8, 8))\n",
    "x = rng.standard_normal (100)\n",
    "y = rng.standard_normal (100)\n",
    "ax.plot(x, y);"
   ]
  },
  {
   "cell_type": "code",
   "execution_count": null,
   "id": "9a1ff3a1-6250-41a3-893f-4aeece2800ed",
   "metadata": {},
   "outputs": [],
   "source": [
    "output = subplots(figsize =(8, 8))\n",
    "fig = output [0]\n",
    "ax = output [1]"
   ]
  },
  {
   "cell_type": "code",
   "execution_count": null,
   "id": "16f29314-5449-4c3f-844f-4b36ca00e549",
   "metadata": {},
   "outputs": [],
   "source": [
    "fig , ax = subplots(figsize =(8, 8))\n",
    "ax.plot(x, y, 'o');"
   ]
  },
  {
   "cell_type": "code",
   "execution_count": null,
   "id": "f5e3699f-949b-44bb-8362-003262102e36",
   "metadata": {},
   "outputs": [],
   "source": [
    "import pandas as pd\n",
    "Auto = pd.read_csv('Auto.csv', na_values=['?'])\n",
    "Auto"
   ]
  },
  {
   "cell_type": "code",
   "execution_count": null,
   "id": "92e20631-6fb1-472b-9645-77d7ff949e30",
   "metadata": {},
   "outputs": [],
   "source": [
    "np.unique(Auto['horsepower'])"
   ]
  },
  {
   "cell_type": "code",
   "execution_count": null,
   "id": "de468d07-1968-4b0e-8362-c26f7b94aee6",
   "metadata": {},
   "outputs": [],
   "source": [
    "Auto.shape"
   ]
  },
  {
   "cell_type": "code",
   "execution_count": null,
   "id": "44371c94-aed8-4089-a645-0994dfba71f3",
   "metadata": {},
   "outputs": [],
   "source": [
    "college = pd.read_csv('College.csv', index_col=0)\n",
    "college"
   ]
  },
  {
   "cell_type": "code",
   "execution_count": null,
   "id": "6125a0a8-559e-41d1-903b-3b030a378c2a",
   "metadata": {},
   "outputs": [],
   "source": [
    "college.describe()"
   ]
  },
  {
   "cell_type": "code",
   "execution_count": null,
   "id": "11b56ef4-e7e9-4941-8a7e-2776aac59442",
   "metadata": {},
   "outputs": [],
   "source": [
    "pd.plotting.scatter_matrix(college[['Top10perc', 'Apps', 'Enroll']]);"
   ]
  },
  {
   "cell_type": "code",
   "execution_count": null,
   "id": "495bb4e0-3ae0-4b2b-9b50-05d345749cde",
   "metadata": {},
   "outputs": [],
   "source": [
    "college.boxplot('Outstate', 'Private');"
   ]
  },
  {
   "cell_type": "code",
   "execution_count": null,
   "id": "81331675-9fda-4b84-8929-16c72410a4fd",
   "metadata": {},
   "outputs": [],
   "source": [
    "college['Elite'] = pd.cut(college['Top10perc'],\n",
    "                           [0,0.5,1],\n",
    "                           labels =['No', 'Yes'])\n",
    "college['Elite'].value_counts()"
   ]
  },
  {
   "cell_type": "code",
   "execution_count": null,
   "id": "e51c781e-6d2a-4ecc-924b-cbfdadbd4d13",
   "metadata": {},
   "outputs": [],
   "source": [
    "college.boxplot('Outstate', 'Elite');"
   ]
  },
  {
   "cell_type": "code",
   "execution_count": null,
   "id": "43a3fbf9-8e4b-46c5-8160-c24607e1f187",
   "metadata": {},
   "outputs": [],
   "source": []
  }
 ],
 "metadata": {
  "kernelspec": {
   "display_name": "Python 3 (ipykernel)",
   "language": "python",
   "name": "python3"
  },
  "language_info": {
   "codemirror_mode": {
    "name": "ipython",
    "version": 3
   },
   "file_extension": ".py",
   "mimetype": "text/x-python",
   "name": "python",
   "nbconvert_exporter": "python",
   "pygments_lexer": "ipython3",
   "version": "3.11.5"
  }
 },
 "nbformat": 4,
 "nbformat_minor": 5
}
